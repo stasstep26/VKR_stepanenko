{
 "cells": [
  {
   "cell_type": "code",
   "execution_count": null,
   "metadata": {
    "colab": {
     "base_uri": "https://localhost:8080/"
    },
    "id": "0gByfUBPOrs9",
    "outputId": "e13d7105-8b3f-4b53-f16d-ed4fbeee39d5"
   },
   "outputs": [],
   "source": [
    "!pip install dostoevsky"
   ]
  },
  {
   "cell_type": "code",
   "execution_count": null,
   "metadata": {
    "id": "ZaLf01qCQ-u5"
   },
   "outputs": [],
   "source": [
    "!python -m dostoevsky download fasttext-social-network-model"
   ]
  },
  {
   "cell_type": "code",
   "execution_count": null,
   "metadata": {
    "colab": {
     "base_uri": "https://localhost:8080/"
    },
    "id": "SJ9-KcboREZt",
    "outputId": "6970127f-dcd1-4320-a426-b661c34fb07c"
   },
   "outputs": [],
   "source": [
    "from dostoevsky.tokenization import RegexTokenizer\n",
    "from dostoevsky.models import FastTextSocialNetworkModel\n",
    "tokenizer = RegexTokenizer()\n",
    "tokens = tokenizer.split('всё очень плохо')  # [('всё', None), ('очень', None), ('плохо', None)]\n",
    "model = FastTextSocialNetworkModel(tokenizer=tokenizer)\n",
    "messages = [\n",
    "    'привет',\n",
    "    'я люблю тебя!!',\n",
    "    'малолетние дебилы'\n",
    "]\n",
    "results = model.predict(messages, k=2)\n",
    "for message, sentiment in zip(messages, results):\n",
    "    # привет -> {'speech': 1.0000100135803223, 'skip': 0.0020607432816177607}\n",
    "    # люблю тебя!! -> {'positive': 0.9886782765388489, 'skip': 0.005394937004894018}\n",
    "    # малолетние дебилы -> {'negative': 0.9525841474533081, 'neutral': 0.13661839067935944}]\n",
    "    print(message, '->', sentiment)"
   ]
  },
  {
   "cell_type": "code",
   "execution_count": null,
   "metadata": {
    "id": "JhPcgFNbc62F"
   },
   "outputs": [],
   "source": [
    "import numpy as np\n",
    "import pandas as pd"
   ]
  },
  {
   "cell_type": "code",
   "execution_count": null,
   "metadata": {
    "id": "dJ85VWeGeSAT"
   },
   "outputs": [],
   "source": [
    "file = open(\"news.txt\", \"r\")\n",
    "lines = file.readlines()"
   ]
  },
  {
   "cell_type": "code",
   "execution_count": null,
   "metadata": {
    "colab": {
     "base_uri": "https://localhost:8080/"
    },
    "id": "JlbA2L8Kewdg",
    "outputId": "bd4ba2db-21a4-4985-99f6-c5e50082273a"
   },
   "outputs": [],
   "source": [
    "results = model.predict(lines, k=2)"
   ]
  },
  {
   "cell_type": "code",
   "execution_count": null,
   "metadata": {
    "colab": {
     "base_uri": "https://localhost:8080/",
     "height": 252
    },
    "id": "UWz2jBWMfSVi",
    "outputId": "424eeecf-b4ce-4739-e539-855cc99579d2"
   },
   "outputs": [],
   "source": [
    "import pickle\n",
    "f = open('data.pickle', 'wb')\n",
    "pickle.dump(results, f)\n",
    "f.close()"
   ]
  }
 ],
 "metadata": {
  "colab": {
   "collapsed_sections": [],
   "name": "santiment.ipynb",
   "provenance": []
  },
  "kernelspec": {
   "display_name": "Python 3 (ipykernel)",
   "language": "python",
   "name": "python3"
  },
  "language_info": {
   "codemirror_mode": {
    "name": "ipython",
    "version": 3
   },
   "file_extension": ".py",
   "mimetype": "text/x-python",
   "name": "python",
   "nbconvert_exporter": "python",
   "pygments_lexer": "ipython3",
   "version": "3.8.12"
  }
 },
 "nbformat": 4,
 "nbformat_minor": 4
}
